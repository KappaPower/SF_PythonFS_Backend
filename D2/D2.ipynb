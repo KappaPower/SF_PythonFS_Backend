{
    "cells": [
        {
            "cell_type": "markdown",
            "source": [
                "#  Модуль D2. Модели "
            ],
            "metadata": {}
        },
        {
            "cell_type": "markdown",
            "source": [
                "# D2.2 Понятие сущности"
            ],
            "metadata": {}
        },
        {
            "cell_type": "markdown",
            "source": [
                "## Задание 2.2.2\n",
                "\n",
                "Задание на самопроверку.\n",
                "\n",
                "С помощью языка SQL и написанных ранее примеров, создайте таблицу STAFF, которая имеет следующие атрибуты:\n",
                "\n",
                "  - staff_id (целочисленный атрибут с автоинкрементом) — уникальный идентификатор каждого сотрудника;\n",
                "  - full_name (строка до 255 символов) — ФИО сотрудника;\n",
                "  - position (строка до 255 символов) — должность сотрудника;\n",
                "  - labor_contract (целочисленный атрибут) — номер трудового договора.\n"
            ],
            "metadata": {}
        },
        {
            "cell_type": "code",
            "execution_count": null,
            "source": [
                "CREATE TABLE STAFF(\n",
                "  staff_id INT AUTO_INCREMENT NOT NULL,\n",
                "  full_name CHAR(255) NOT NULL,\n",
                "  position CHAR(255) NOT NULL,\n",
                "  labor_contract INT NOT NULL\n",
                ")"
            ],
            "outputs": [],
            "metadata": {}
        },
        {
            "cell_type": "markdown",
            "source": [
                "# D2.3 Связи между сущностями"
            ],
            "metadata": {}
        },
        {
            "cell_type": "markdown",
            "source": [
                "Существует три основных типа связей (отношений) между сущностями:\n",
                "\n",
                "  1. Один к одному\n",
                "  2 .Один ко многим\n",
                "  3. Многие ко многим\n",
                "\n",
                "\n",
                "\n",
                "## Один к одному\n",
                "\n",
                "> Этот тип связи между сущностями присутствует, когда один из объектов одной сущности связан **только с одним** объектом другой сущности.\n",
                "\n",
                "## Один ко многим\n",
                "\n",
                "> объекту одной сущности может соответствовать несколько объектов другой сущности.\n",
                "\n",
                "\n",
                "## Многие ко многим\n",
                "\n",
                "> Математически этот объект называется двудольным графом, но нам здесь важно обратить внимание на то, что каждый объект одного типа может быть связан с произвольным количеством объектов другого типа.\n",
                "> В теории это выглядит так. На практике же, когда мы реализуем такую связь мы всегда должны иметь три таблицы:\n",
                "\n",
                "  - первые две ***TableA*** и ***TableB*** относятся к исходным объектам обоих типов;\n",
                "  - третья таблица ***TableA_B*** хранит в себе связи между объектами первых таблиц.\n"
            ],
            "metadata": {}
        },
        {
            "cell_type": "markdown",
            "source": [
                "## Ключи\n",
                "\n",
                "**первичный ключ** — это атрибут, обеспечивающий уникальность.\n",
                "\n",
                "**Внешний ключ**, опять же без необязательной строгости, — это атрибут, который содержит в себе значение первичного ключа строк таблицы, с которой строится связь."
            ],
            "metadata": {}
        },
        {
            "cell_type": "markdown",
            "source": [
                "## Создание ключей с помощью SQL"
            ],
            "metadata": {}
        },
        {
            "cell_type": "markdown",
            "source": [
                "## Задание 2.3.1\n",
                "\n",
                "Возьмите таблицы *Products* и *Staff*, созданные в конце прошлого юнита и модифицируйте их, добавив определение первичного ключа."
            ],
            "metadata": {}
        },
        {
            "cell_type": "code",
            "execution_count": null,
            "source": [
                "CREATE TABLE ORDERS (\n",
                "    order_id INT AUTO_INCREMENT NOT NULL,\n",
                "    time_in DATETIME NOT NULL,\n",
                "    time_out DATETIME,\n",
                "    cost FLOAT NOT NULL,\n",
                "    take_away INT NOT NULL,\n",
                "    \n",
                "    PRIMARY KEY (order_id)\n",
                ");"
            ],
            "outputs": [],
            "metadata": {}
        },
        {
            "cell_type": "code",
            "execution_count": null,
            "source": [
                "CREATE TABLE PRODUCTS (\n",
                "    product_id INT AUTO_INCREMENT NOT NULL,\n",
                "    name CHAR(255) NOT NULL,\n",
                "    price FLOAT NOT NULL,\n",
                "\n",
                "    PRIMARY KEY (product_id)\n",
                ");\n",
                "\n",
                "CREATE TABLE STAFF (\n",
                "    staff_id INT AUTO_INCREMENT NOT NULL,\n",
                "    full_name CHAR(255) NOT NULL,    \n",
                "    position CHAR(255) NOT NULL,\n",
                "    labor_contract INT NOT NULL,\n",
                "\n",
                "    PRIMARY KEY (staff_id)\n",
                ");"
            ],
            "outputs": [],
            "metadata": {}
        },
        {
            "cell_type": "markdown",
            "source": [
                "Внешний ключ определяется аналогичным способом."
            ],
            "metadata": {}
        },
        {
            "cell_type": "code",
            "execution_count": null,
            "source": [
                "CREATE TABLE ORDERS (\n",
                "    order_id INT AUTO_INCREMENT NOT NULL,\n",
                "    time_in DATETIME NOT NULL,\n",
                "    time_out DATETIME,\n",
                "    cost FLOAT NOT NULL,\n",
                "    take_away INT NOT NULL,\n",
                "    staff INT NOT NULL,\n",
                "    \n",
                "    PRIMARY KEY (order_id),\n",
                "    FOREIGN KEY (staff) REFERENCES STAFF (staff_id)\n",
                ");"
            ],
            "outputs": [],
            "metadata": {}
        },
        {
            "cell_type": "markdown",
            "source": [
                "## Задание 2.3.2\n",
                "\n",
                "При помощи *SQL* создайте таблицу *PRODUCTS_ORDERS*, которая должна:\n",
                "\n",
                "  - Содержать атрибут product_order_id, который предполагается целочисленным, автоматически увеличивающимся на 1 и тем самым должен стать первичным ключом этой таблицы.\n",
                "  - Содержать атрибут product, который ссылается на первичный ключ таблицы Products.\n",
                "  - Содержать атрибут in_order, который ссылается на первичный ключ таблицы Orders.\n",
                "  - Содержать атрибут amount, который определяет количество конкретного продукта в заказе. Мы предполагаем, что это целое число.\n"
            ],
            "metadata": {}
        },
        {
            "cell_type": "code",
            "execution_count": null,
            "source": [
                "CREATE TABLE PRODUCTS_ORDERS (\n",
                "    product_order_id INT AUTO_INCREMENT NOT NULL,\n",
                "    product INT NOT NULL,\n",
                "    in_order INT NOT NULL,\n",
                "    amount INT NOT NULL,\n",
                "    PRIMARY KEY (product_order_id),\n",
                "    FOREIGN KEY (product) REFERENCES PRODUCTS (product_id),\n",
                "    FOREIGN KEY (in_order) REFERENCES ORDERS (order_id)\n",
                ");"
            ],
            "outputs": [],
            "metadata": {}
        },
        {
            "cell_type": "markdown",
            "source": [
                "# D2.4 Что такое модель"
            ],
            "metadata": {}
        },
        {
            "cell_type": "markdown",
            "source": [
                "### **Django** использует не *MVC*, а *MTV*\n",
                "\n",
                "> Архитектура MTV — это Model-Template-View.\n",
                "\n",
                "Отличия несущественные:\n",
                "\n",
                "  - **Модель**, как была моделью, так ей и остается.\n",
                "  - **Template** — шаблон — это то, что называлось представлением в архитектуре *MVC*, отвечает за отображение данных.\n",
                "  - **View** — представление — это то, что было контроллером в *MVC*, управляет бизнес-логикой.\n"
            ],
            "metadata": {}
        },
        {
            "cell_type": "markdown",
            "source": [
                "> ***Object Related Mapping*** — это технология, связывающая реляционные базы данных с принципами объектно-ориентированного программирования."
            ],
            "metadata": {}
        },
        {
            "cell_type": "code",
            "execution_count": null,
            "source": [
                "# Например, чтобы создать сущности для базы данных McDonald’s, мы можем написать следующие заголовки классов:\n",
                "\n",
                "from django.db import models  # импорт\n",
                "\n",
                "\n",
                "class Order(models.Model):  # наследуемся от класса Model\n",
                "    pass\n",
                "\n",
                "class Product(models.Model):\n",
                "    pass\n",
                "\n",
                "class Staff(models.Model):\n",
                "    pass\n",
                "\n",
                "class ProductOrder(models.Model):\n",
                "    pass"
            ],
            "outputs": [],
            "metadata": {}
        },
        {
            "cell_type": "markdown",
            "source": [
                "# D2.5 Поля моделей"
            ],
            "metadata": {}
        },
        {
            "cell_type": "code",
            "execution_count": null,
            "source": [
                "from django.db import models\n",
                "\n",
                "\n",
                "class Product(models.Model):\n",
                "    name = models.CharField(max_length = 255)\n",
                "    price = models.FloatField(default = 0.0)"
            ],
            "outputs": [],
            "metadata": {}
        },
        {
            "cell_type": "markdown",
            "source": [
                "## Задание 2.5.2\n",
                "\n",
                "По аналогии с моделью *Product*, реализуйте модель «Сотрудники» — *Staff*.\n",
                "\n",
                "Предполагается:\n",
                "\n",
                "  - что у этой модели есть скрытый автоинкрементный первичный ключ, который *Django* создает самостоятельно;\n",
                "  - поле *full_name*, в котором хранится ФИО сотрудника;\n",
                "  - поле *position*, в котором хранится должность сотрудника;\n",
                "  - поле *labor_contract*, которое содержит номер трудового договора (предполагается целочисленным).\n"
            ],
            "metadata": {}
        },
        {
            "cell_type": "code",
            "execution_count": null,
            "source": [
                "director = 'DI'\n",
                "admin = 'AD'\n",
                "cook = 'CO'\n",
                "cashier = 'CA'\n",
                "cleaner = 'CL'\n",
                "\n",
                "POSITIONS = [\n",
                "    (director, 'Директор'),\n",
                "    (admin, 'Администратор'),\n",
                "    (cook, 'Повар'),\n",
                "    (cashier, 'Кассир'),\n",
                "    (cleaner, 'Уборщик')\n",
                "]\n",
                "\n",
                "class Staff(models.Model):\n",
                "  labor_contact = models.IntegerField()\n",
                "  fullname = models.CharField(max_length=255)\n",
                "  position = models.CharField(max_length = 2, \n",
                "                            choices = POSITIONS, \n",
                "                            default = cashier)\n"
            ],
            "outputs": [],
            "metadata": {}
        },
        {
            "cell_type": "markdown",
            "source": [
                "## Связи между моделями\n",
                "\n",
                "Чтобы определить любую связь между моделями, мы должны в одном из классов создать поле соответствующего типа:\n",
                "\n",
                "```py\n",
                "one_to_one_relation = models.OneToOneField(some_model)\n",
                "one_to_many_relation = models.ForeignKey(some_model)\n",
                "many_to_many_relation = models.ManyToManyField(some_model)\n",
                "```\n",
                "В данном коде *some_model* — это модель, к которой строится связь."
            ],
            "metadata": {}
        },
        {
            "cell_type": "code",
            "execution_count": null,
            "source": [
                "class Order(models.Model):\n",
                "    time_in = models.DateTimeField(auto_now_add = True)\n",
                "    time_out = models.DateTimeField(null = True)\n",
                "    cost = models.FloatField(default = 0.0)\n",
                "    take_away = models.BooleanField(default = False)\n",
                "    complete = models.BooleanField(default = False)\n",
                "    staff = models.ForeignKey(Staff, on_delete = models.CASCADE)\n",
                "    \n",
                "    products = models.ManyToManyField(Product, through = 'ProductOrder')"
            ],
            "outputs": [],
            "metadata": {}
        },
        {
            "cell_type": "markdown",
            "source": [
                "## Задание 2.5.3\n",
                "\n",
                "Создайте модель *ProductOrder*. При помощи полей *ForeignKey* реализуйте связи к таблицам *Order* и *Product*, устанавливая каскадное удаление. А также введите дополнительное целочисленное поле *amount*, хранящее количество продуктов в заказе. По умолчанию его значение должно быть равно 1."
            ],
            "metadata": {}
        },
        {
            "cell_type": "code",
            "execution_count": null,
            "source": [
                "class ProductOrder(models.Model): \n",
                "  product = models.ForeignKey(Product, on_delete = models.CASCADE)\n",
                "  order = models.ForeignKey(Order, on_delete = models.CASCADE)\n",
                "  amount = models.IntegerField(default=1)"
            ],
            "outputs": [],
            "metadata": {}
        },
        {
            "cell_type": "markdown",
            "source": [
                "Остается вопрос — куда деть этот код, чтобы он заработал?\n",
                "\n",
                "В приложение в файл models.py. И именно в нем и должен содержаться этот код.\n",
                "\n",
                "Дальше мы должны указать Django перевести это на язык, понятный базе данных. Это выполняется с помощью миграций.\n",
                "```bash\n",
                "$ python3 manage.py makemigrations\n",
                "$ python3 manage.py migrate\n",
                "```"
            ],
            "metadata": {}
        },
        {
            "cell_type": "markdown",
            "source": [
                "# D2.6 Методы и свойства моделей"
            ],
            "metadata": {}
        },
        {
            "cell_type": "markdown",
            "source": [
                "## Методы моделей"
            ],
            "metadata": {}
        },
        {
            "cell_type": "markdown",
            "source": [
                "В общем виде эту функцию мы записываем следующим образом:\n",
                "```py\n",
                "class SomeModel(models.Model):\n",
                "    field_int = models.IntegerField()\n",
                "    field_text = models.TextField()\n",
                "\n",
                "    def some_method(self):\n",
                "        // делаем что-то с данными\n",
                "        return value  # можем вернуть что-то, но не обязательно\n",
                "```"
            ],
            "metadata": {}
        },
        {
            "cell_type": "code",
            "execution_count": null,
            "source": [
                "class ProductOrder(models.Model):\n",
                "    product = models.ForeignKey(Product, on_delete = models.CASCADE)\n",
                "    order = models.ForeignKey(Order, on_delete = models.CASCADE)\n",
                "    amount = models.IntegerField(default = 1) \n",
                "\n",
                "    def product_sum(self):\n",
                "        product_price = self.product.price\n",
                "        return product_price * self.amount"
            ],
            "outputs": [],
            "metadata": {}
        },
        {
            "cell_type": "markdown",
            "source": [
                "## Задание 2.6.1\n",
                "\n",
                "Напишите метод **get_last_name()** модели *Staff*, который возвращает только фамилию из поля **full_name**. Предполагается, что ФИО записано в формате «Иванов Иван Иванович». Вспомните функции строк, позволяющие это сделать."
            ],
            "metadata": {}
        },
        {
            "cell_type": "code",
            "execution_count": null,
            "source": [
                "def get_last_name(self):\n",
                "    return self.full_name.split()[0]  "
            ],
            "outputs": [],
            "metadata": {}
        },
        {
            "cell_type": "code",
            "execution_count": null,
            "source": [
                "# В модели Order мы можем получить время, которое было затрачено на выполнение заказа. Для этого нужно сначала написать метод, который при завершении заказа, устанавливал бы текущее время в поле time_out.\n",
                "\n",
                "from datetime import datetime\n",
                "\n",
                "def finish_order(self):\n",
                "    self.time_out = datetime.now()\n",
                "    self.complete = True\n",
                "    self.save()\n"
            ],
            "outputs": [],
            "metadata": {}
        },
        {
            "cell_type": "markdown",
            "source": [
                "Пусть у нас есть два объекта типа **datetime** — **before** и **after**.\n",
                "\n",
                "```py\n",
                "seconds = (after — before).total_seconds()\n",
                "```\n",
                "\n",
                "В эту переменную запишется искомое количество секунд."
            ],
            "metadata": {}
        },
        {
            "cell_type": "markdown",
            "source": [
                "## Задание 2.6.2\n",
                "\n",
                "Напишите метод *get_duration()* модели **Order**, возвращающий время выполнения заказа в минутах (округлить до целого). Если заказ еще не выполнен, то вернуть количество минут с начала выполнения заказа."
            ],
            "metadata": {}
        },
        {
            "cell_type": "code",
            "execution_count": null,
            "source": [
                "def get_duration(self):\n",
                "    if self.complete:  # если завершен, возвращаем разность объектов\n",
                "        return (self.time_out - self.time_in).total_seconds() // 60\n",
                "    else:  # если еще нет, то сколько длится выполнение\n",
                "        return (datetime.now() - self.time_in).total_seconds() // 60"
            ],
            "outputs": [],
            "metadata": {}
        },
        {
            "cell_type": "markdown",
            "source": [
                "## Свойства моделей\n",
                "\n",
                "способ объявления полей классов — через свойства — также можно использовать в Django, но с большой аккуратностью."
            ],
            "metadata": {}
        },
        {
            "cell_type": "code",
            "execution_count": null,
            "source": [
                "class ProductOrder(models.Model):\n",
                "    product = models.ForeignKey(Product, on_delete = models.CASCADE)\n",
                "    order = models.ForeignKey(Order, on_delete = models.CASCADE)\n",
                "    _amount = models.IntegerField(default = 1, db_column = 'amount') \n",
                "\n",
                "    @property\n",
                "    def amount(self):\n",
                "        return self._amount\n",
                "\n",
                "    @amount.setter\n",
                "    def amount(self, value):\n",
                "        self._amount = int(value) if value >= 0 else 0\n",
                "        self.save()\n",
                "\n",
                "# использовать свойства в моделях может быть опасно. Для написания геттеров и сеттеров полей модели лучше всего делать перегрузку некоторых функций, а для проверки значений на соответствие можно добавлять валидаторы к полям.\n",
                "\n",
                "#  Однако вполне приемлемым является написание свойств для полей, несвязанных с базой данных. "
            ],
            "outputs": [],
            "metadata": {}
        },
        {
            "cell_type": "markdown",
            "source": [
                "# D2.7 Получение данных из моделей"
            ],
            "metadata": {}
        },
        {
            "cell_type": "markdown",
            "source": [
                "## Задание 2.7.1\n",
                "\n",
                "Добавить в модель следующие объекты:\n",
                "\n",
                "  - Картофель фри (станд.), 93 руб.\n",
                "  - Картофель фри (бол.), 106 руб.\n",
                "\n",
                "Первый объект создайте с помощью создания объекта класса с последующим сохранением в базу данных, а второй объект — используя менеджер модели."
            ],
            "metadata": {}
        },
        {
            "cell_type": "code",
            "execution_count": null,
            "source": [
                "fries_std = Product(name = \"Картофель фри (станд.)\", price = 93.0)\n",
                "fries_std.save()\n",
                "\n",
                "fries_big = Product.objects.create(name = \"Картофель фри (бол.)\", price = 106.0)"
            ],
            "outputs": [],
            "metadata": {}
        },
        {
            "cell_type": "markdown",
            "source": [
                "## Получение объектов модели, метод get\n",
                "\n",
                "Этот метод удобно использовать при получении объекта по его pk (primary key — первичный ключ), потому что он всегда уникальный в рамках одной таблицы. Метод, выполненный по этому запросу, гарантированно вернет не более одного объекта. Также метод get хорошо применим, если у нас есть поле, которое может и не являться первичным ключом, но может быть уникальным."
            ],
            "metadata": {}
        },
        {
            "cell_type": "code",
            "execution_count": null,
            "source": [
                "person = Staff.objects.get(labor_contract = 1254)"
            ],
            "outputs": [],
            "metadata": {}
        },
        {
            "cell_type": "markdown",
            "source": [
                "## Получение объектов модели, метод filter"
            ],
            "metadata": {}
        },
        {
            "cell_type": "code",
            "execution_count": null,
            "source": [
                "Staff.objects.filter(position = Staff.cashier)"
            ],
            "outputs": [],
            "metadata": {}
        },
        {
            "cell_type": "markdown",
            "source": [
                "метод **filter** возвращает объект **QuerySet**, который является результатом выполнения запроса. Внутри этого результата мы видим два объекта, но они имеют не очень презентабельное название. Это название формируется *Django* автоматически. Его можно изменить, переопределив метод `__str__(self)` соответствующей модели. Однако можно поступить и другим хитрым способом — преобразовать **QuerySet** в список!\n",
                "```py\n",
                ">>> cashiers = Staff.objects.filter(position = Staff.cashier)\n",
                ">>> cashiers.values(\"full_name\", \"labor_contract\") \n",
                "```\n",
                "Фильтрация имеет огромное количество вспомогательных инструментов. Например, дописав к названию поля `__gt` в аргументе метода, можно найти все значения, которые больше (*greater than*) заданного числа.\n",
                "\n",
                "Например:\n",
                "```py\n",
                ">>> Product.objects.filter(price__gt = 90.0).values(\"name\")\n",
                "```\n",
                "Используя двойное подчеркивание мы можем выводить поле связанного объекта модели, а не сам объект. Более того, если связи между таблицами многоступенчатые (одна зависит от второй, она от третьей и т. д.), то можно создавать целые цепочки связанных фильтров, используя двойное подчеркивание между полями моделей."
            ],
            "metadata": {}
        },
        {
            "cell_type": "markdown",
            "source": [
                "\n",
                "\n",
                "Если мы вызываем методы filter() или all(), а по запросу ничего не найдено, то вызов метода get, например, приведет к выбросу исключения. Для исключения таких ситуаций у QuerySet есть также свои методы, и один из них проверяет наличие каких-либо объектов в результате запроса.\n",
                "\n",
                "```py\n",
                ">>> ProductOrder.objects.all().exists()\n",
                "False\n",
                "```\n"
            ],
            "metadata": {}
        },
        {
            "cell_type": "markdown",
            "source": [
                "И еще одна полезная функция объектов QuerySet, которые возвращаются всякий раз при вызове методов filter() или all() — это метод сортировки order_by(‘field_name’). Например, мы можем получить отсортированный по ценам список продуктов.\n",
                "\n",
                "Для этого мы должны написать:\n",
                "\n",
                "```py\n",
                ">>> Product.objects.all().order_by('price').values('name', 'price')\n",
                "```\n",
                "\n",
                "В такой записи объекты сортируются в порядке возрастания. Однако, если нужно отсортировать в порядке убывания мы должны перед названием поля внутри этого метода поставить знак «-» (минус).\n",
                "\n",
                "```py\n",
                ">>> Product.objects.all().order_by('-price').values('name', 'price')\n",
                "```"
            ],
            "metadata": {}
        },
        {
            "cell_type": "code",
            "execution_count": null,
            "source": [
                "from news.models import *\n",
                "\n",
                "user1 = User.objects.create(username='awesome', first_name='Writer')\n",
                "\n",
                "Author.objects.create(authorUsername=user1)\n",
                "\n",
                "\n",
                "user2 = User.objects.create(username='average', first_name='Paperback')\n",
                "Author.objects.create(authorUsername=user2)\n",
                "\n",
                "\n",
                "Category.objects.create(name='IT')\n",
                "Category.objects.create(name='Cooking')\n",
                "\n",
                "Post.objects.create(author=Author.objects.get(authorUsername=User.objects.get(username='awesome')), categoryType='NWS',  title='Empire strikes back', text='The Sith raise to power and set to conquer the Universe')\n",
                "\n",
                "Post.objects.create(author=Author.objects.get(authorUsername=User.objects.get(username='awesome')), categoryType='ART',  title='Law and order', text='All hail the Emperor!')\n",
                "\n",
                "Post.objects.create(author=Author.objects.get(authorUsername=User.objects.get(username='average')), categoryType='ART',  title='The Force is strong', text='Rebels are not ginig up.')\n",
                "\n",
                "\n",
                "p1 = Post.objects.get(pk=1)\n",
                "p2 = Post.objects.get(pk=2)\n",
                "p3 = Post.objects.get(pk=3)\n",
                "\n",
                "c1 = Category.objects.get(name='IT')\n",
                "c2 = Category.objects.get(name='Cooking')\n",
                "\n",
                "p1.postCategory.add(c1)\n",
                "p2.postCategory.add(c1, c2)\n",
                "p3.postCategory.add(c2)\n",
                "\n",
                "Comment.objects.create(commentUser=User.objects.get(username='awesome'), commentPost = Post.objects.get(pk=1), text='comment text1')\n",
                "\n",
                "Comment.objects.create(commentUser=User.objects.get(username='awesome'), commentPost = Post.objects.get(pk=2), text='comment text2')\n",
                "\n",
                "Comment.objects.create(commentUser=User.objects.get(username='average'), commentPost = Post.objects.get(pk=3), text='comment text3')\n",
                "\n",
                "Post.objects.get(pk=1).like()\n",
                "Post.objects.get(pk=1).like()\n",
                "Post.objects.get(pk=1).like()\n",
                "Post.objects.get(pk=2).like()\n",
                "Post.objects.get(pk=2).like()\n",
                "Post.objects.get(pk=3).dislike()\n",
                "Post.objects.get(pk=2).like()\n",
                "\n",
                "\n",
                "Comment.objects.get(pk=1).like()\n",
                "Comment.objects.get(pk=3).like()\n",
                "Comment.objects.get(pk=2).dislike()\n",
                "\n",
                "Author.objects.get(authorUsername=User.objects.get(username='awesome')).update_rating()\n",
                "Author.objects.get(authorUsername=User.objects.get(username='average')).update_rating()\n",
                "\n",
                "a1 = Author.objects.get(authorUsername=User.objects.get(username='awesome'))\n",
                "a1.authorRating\n",
                "a2 = Author.objects.get(authorUsername=User.objects.get(username='average'))\n",
                "a2.authorRating\n",
                "\n",
                "\n",
                "bestAuthor = Author.objects.all().order_by('-authorRating').values('authorUsername__username','authorRating')[0]\n",
                "\n",
                "print(bestAuthor)"
            ],
            "outputs": [],
            "metadata": {}
        }
    ],
    "metadata": {
        "orig_nbformat": 4,
        "language_info": {
            "name": "python",
            "version": "3.8.10",
            "mimetype": "text/x-python",
            "codemirror_mode": {
                "name": "ipython",
                "version": 3
            },
            "pygments_lexer": "ipython3",
            "nbconvert_exporter": "python",
            "file_extension": ".py"
        },
        "kernelspec": {
            "name": "python3",
            "display_name": "Python 3.8.10 64-bit ('venv')"
        },
        "interpreter": {
            "hash": "7dea75c132858024f634b614f324c9b9bfcc6e95736c68666ddc48c4c7dadafb"
        }
    },
    "nbformat": 4,
    "nbformat_minor": 2
}